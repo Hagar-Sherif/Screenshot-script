{
 "cells": [
  {
   "cell_type": "code",
   "execution_count": 17,
   "id": "faf26629",
   "metadata": {},
   "outputs": [
    {
     "name": "stdout",
     "output_type": "stream",
     "text": [
      "Enter number of screenshots 3\n",
      "Enter sleep time in minutes 1\n",
      "Name your folder tr\n"
     ]
    }
   ],
   "source": [
    "import numpy as np\n",
    "import cv2\n",
    "import pyautogui\n",
    "import time\n",
    "import os\n",
    "\n",
    "s = int(input(\"Enter number of screenshots \"))\n",
    "t = int(input(\"Enter sleep time in minutes \")) * 60 \n",
    "folder = input(\"Name your folder \")\n",
    "path = \"Downloads/\"+ folder\n",
    "os.mkdir(path)\n",
    "\n",
    "i = 1\n",
    "while i <= s:\n",
    "    image = pyautogui.screenshot()\n",
    "# since the pyautogui takes as a\n",
    "# PIL(pillow) and in RGB we need to\n",
    "# convert it to numpy array and BGR\n",
    "# so we can write it to the disk\n",
    "    image = cv2.cvtColor(np.array(image),\n",
    "                        cv2.COLOR_RGB2BGR)\n",
    "# writing it to the disk using opencv\n",
    "    cv2.imwrite( path + \"/\" + str(i) + \".png\", image)\n",
    "    time.sleep(t)\n",
    "    i +=1"
   ]
  }
 ],
 "metadata": {
  "kernelspec": {
   "display_name": "Python 3 (ipykernel)",
   "language": "python",
   "name": "python3"
  },
  "language_info": {
   "codemirror_mode": {
    "name": "ipython",
    "version": 3
   },
   "file_extension": ".py",
   "mimetype": "text/x-python",
   "name": "python",
   "nbconvert_exporter": "python",
   "pygments_lexer": "ipython3",
   "version": "3.9.12"
  }
 },
 "nbformat": 4,
 "nbformat_minor": 5
}
